{
 "cells": [
  {
   "cell_type": "code",
   "execution_count": null,
   "metadata": {},
   "outputs": [],
   "source": [
    "!pip install qdrant-client"
   ]
  },
  {
   "cell_type": "code",
   "execution_count": 3,
   "metadata": {},
   "outputs": [],
   "source": [
    "import pandas as pd\n",
    "from pathlib import Path\n",
    "from qdrant_client import models, QdrantClient\n",
    "from nlp_models.multi_task_model.mtl import MTLInference\n",
    "\n",
    "DATA_FOLDER = Path('../data/0_external/google-quest-challenge')\n",
    "MODEL_DIR = Path('../models/multi-task-model/')"
   ]
  },
  {
   "cell_type": "code",
   "execution_count": 4,
   "metadata": {},
   "outputs": [],
   "source": [
    "output_dir = MODEL_DIR / 'multi-task-model-finetuned-classification-layer-20230609'\n",
    "tokenizer_dir = output_dir / 'tokenizer'\n",
    "model_file = output_dir / 'mtl.bin'\n",
    "\n",
    "mtl = MTLInference(tokenizer_dir, model_file, pretrained_model=False)"
   ]
  },
  {
   "cell_type": "code",
   "execution_count": 5,
   "metadata": {},
   "outputs": [],
   "source": [
    "df_train = pd.read_csv(DATA_FOLDER / 'train.csv')\n",
    "label_dict = dict([(k,v) for k, v in enumerate(df_train.category.unique())])"
   ]
  },
  {
   "cell_type": "code",
   "execution_count": 6,
   "metadata": {},
   "outputs": [
    {
     "data": {
      "text/plain": [
       "True"
      ]
     },
     "execution_count": 6,
     "metadata": {},
     "output_type": "execute_result"
    }
   ],
   "source": [
    "qdrant = QdrantClient(':memory:')\n",
    "qdrant.recreate_collection(\n",
    "    collection_name='qb',\n",
    "    vectors_config=models.VectorParams(\n",
    "        size=mtl.mtl_model.base_model.config.hidden_size,\n",
    "        distance=models.Distance.DOT\n",
    "    )\n",
    ")"
   ]
  },
  {
   "cell_type": "code",
   "execution_count": 7,
   "metadata": {},
   "outputs": [],
   "source": [
    "qdrant.upload_records(\n",
    "    collection_name='qb',\n",
    "    records=[\n",
    "        models.Record(\n",
    "            id=idx,\n",
    "            vector=mtl.predict(rec['question_title'])[1].squeeze().tolist(),\n",
    "            payload=rec\n",
    "        ) for idx, rec in df_train.iterrows()\n",
    "    ]\n",
    ")"
   ]
  },
  {
   "cell_type": "code",
   "execution_count": null,
   "metadata": {},
   "outputs": [],
   "source": [
    "query='What helmet to use for biking in winter?'\n",
    "matches = qdrant.search(\n",
    "    collection_name='qb',\n",
    "    query_vector=mtl.predict(query)[1].squeeze().tolist(),\n",
    "    limit=3\n",
    ")\n",
    "matches"
   ]
  },
  {
   "cell_type": "code",
   "execution_count": null,
   "metadata": {},
   "outputs": [],
   "source": [
    "query = 'what helmet to use for biking in winter?'\n",
    "outputs = mtl.predict(query)\n",
    "matches = qdrant.search(\n",
    "    collection_name='qb',\n",
    "    query_vector=outputs[1].squeeze().tolist(),\n",
    "    query_filter=models.Filter(\n",
    "        must=[\n",
    "            models.FieldCondition(\n",
    "                key='category',\n",
    "                match=models.MatchValue(\n",
    "                    value=label_dict[outputs[0].squeeze().gt(0.5).nonzero().item()]\n",
    "                    )\n",
    "            )\n",
    "        ]\n",
    "    )\n",
    ")"
   ]
  },
  {
   "cell_type": "code",
   "execution_count": null,
   "metadata": {},
   "outputs": [],
   "source": []
  }
 ],
 "metadata": {
  "kernelspec": {
   "display_name": "nlp",
   "language": "python",
   "name": "python3"
  },
  "language_info": {
   "codemirror_mode": {
    "name": "ipython",
    "version": 3
   },
   "file_extension": ".py",
   "mimetype": "text/x-python",
   "name": "python",
   "nbconvert_exporter": "python",
   "pygments_lexer": "ipython3",
   "version": "3.10.0"
  },
  "orig_nbformat": 4
 },
 "nbformat": 4,
 "nbformat_minor": 2
}
