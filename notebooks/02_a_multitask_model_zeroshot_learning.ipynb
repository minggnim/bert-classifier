{
 "cells": [
  {
   "cell_type": "code",
   "execution_count": 2,
   "metadata": {},
   "outputs": [],
   "source": [
    "import torch\n",
    "import numpy as np\n",
    "import pandas as pd\n",
    "from nlp_models.multi_task_model.mtl import MTLInference\n",
    "\n",
    "HF_MODEL_CARD = 'sentence-transformers/multi-qa-mpnet-base-dot-v1'\n",
    "DEVICE = 'cuda' if torch.cuda.is_available() else 'cpu'"
   ]
  },
  {
   "cell_type": "code",
   "execution_count": 3,
   "metadata": {},
   "outputs": [],
   "source": [
    "df_train = pd.read_csv('../data/0_external/google-quest-challenge/train.csv')\n",
    "df_test = pd.read_csv('../data/0_external/google-quest-challenge/test.csv')"
   ]
  },
  {
   "cell_type": "code",
   "execution_count": 4,
   "metadata": {},
   "outputs": [
    {
     "data": {
      "text/plain": [
       "TECHNOLOGY       2441\n",
       "STACKOVERFLOW    1253\n",
       "CULTURE           963\n",
       "SCIENCE           713\n",
       "LIFE_ARTS         709\n",
       "Name: category, dtype: int64"
      ]
     },
     "execution_count": 4,
     "metadata": {},
     "output_type": "execute_result"
    }
   ],
   "source": [
    "df_train.category.value_counts()"
   ]
  },
  {
   "cell_type": "code",
   "execution_count": 5,
   "metadata": {},
   "outputs": [],
   "source": [
    "label_dict = dict([(k,v) for k, v in enumerate(df_train.category.unique())])\n",
    "label_list = list(label_dict.values())"
   ]
  },
  {
   "cell_type": "code",
   "execution_count": 6,
   "metadata": {},
   "outputs": [
    {
     "name": "stdout",
     "output_type": "stream",
     "text": [
      "Prediction Accuracy: 29.08%\n"
     ]
    }
   ],
   "source": [
    "mtl_model = MTLInference(HF_MODEL_CARD, HF_MODEL_CARD, num_labels=len(label_dict), device=DEVICE)\n",
    "labels_embedding = mtl_model.predict(label_list)\n",
    "scores = [\n",
    "    torch.mm(mtl_model.predict(input)[1], labels_embedding[1].transpose(0, 1)).cpu().tolist() \\\n",
    "        for input in df_train['question_title'].to_list()\n",
    "    ]\n",
    "scores = np.squeeze(scores)\n",
    "max_scores = np.argmax(scores, 1)\n",
    "\n",
    "summary = []\n",
    "for i, s in enumerate(max_scores):\n",
    "    row = df_train.iloc[i]\n",
    "    pred = label_dict[s] == row.category\n",
    "    summary.append(pred)\n",
    "print(f'Prediction Accuracy: {sum(summary) / len(summary):.2%}')"
   ]
  },
  {
   "cell_type": "code",
   "execution_count": 7,
   "metadata": {},
   "outputs": [
    {
     "data": {
      "text/plain": [
       "TECHNOLOGY       204\n",
       "STACKOVERFLOW    103\n",
       "CULTURE           64\n",
       "SCIENCE           58\n",
       "LIFE_ARTS         47\n",
       "Name: category, dtype: int64"
      ]
     },
     "execution_count": 7,
     "metadata": {},
     "output_type": "execute_result"
    }
   ],
   "source": [
    "df_test.category.value_counts()"
   ]
  }
 ],
 "metadata": {
  "kernelspec": {
   "display_name": "nlp",
   "language": "python",
   "name": "python3"
  },
  "language_info": {
   "codemirror_mode": {
    "name": "ipython",
    "version": 3
   },
   "file_extension": ".py",
   "mimetype": "text/x-python",
   "name": "python",
   "nbconvert_exporter": "python",
   "pygments_lexer": "ipython3",
   "version": "3.10.0"
  },
  "orig_nbformat": 4
 },
 "nbformat": 4,
 "nbformat_minor": 2
}
