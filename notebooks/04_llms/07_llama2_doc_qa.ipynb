{
 "cells": [
  {
   "cell_type": "code",
   "execution_count": 21,
   "metadata": {},
   "outputs": [
    {
     "name": "stdout",
     "output_type": "stream",
     "text": [
      "The autoreload extension is already loaded. To reload it, use:\n",
      "  %reload_ext autoreload\n"
     ]
    }
   ],
   "source": [
    "%load_ext autoreload\n",
    "%autoreload 2"
   ]
  },
  {
   "cell_type": "code",
   "execution_count": 22,
   "metadata": {},
   "outputs": [],
   "source": [
    "from nlp_models.llm.base import LlmConfig\n",
    "from nlp_models.llm.vectordbs import build_vectordb, load_vectordb\n",
    "from nlp_models.llm.llms import build_llm\n",
    "from nlp_models.llm.prompts import QAPrompt\n",
    "from nlp_models.llm.apps import QaLlmApp"
   ]
  },
  {
   "cell_type": "code",
   "execution_count": 23,
   "metadata": {},
   "outputs": [],
   "source": [
    "config = LlmConfig(\n",
    "    MODEL_BIN_PATH='../../models/Llama-2-7B-Chat-GGML', \n",
    "    DATA_PATH='../../data/0_raw', \n",
    "    FAISS_DB_PATH='../../vectordb'\n",
    ")"
   ]
  },
  {
   "cell_type": "code",
   "execution_count": 24,
   "metadata": {},
   "outputs": [],
   "source": [
    "build_vectordb(config)"
   ]
  },
  {
   "cell_type": "code",
   "execution_count": 25,
   "metadata": {},
   "outputs": [],
   "source": [
    "llm_qa_app = QaLlmApp(llm=build_llm(config), prompt=QAPrompt().qa_prompt, vectordb=load_vectordb(config))"
   ]
  },
  {
   "cell_type": "code",
   "execution_count": 26,
   "metadata": {},
   "outputs": [
    {
     "name": "stdout",
     "output_type": "stream",
     "text": [
      "I don't know whether you can use your Green Card to travel abroad after August 1st, as the validity period of a Green Card is typically 10 years from the date of issuance, and it may not be valid for international travel beyond that time frame. I recommend checking with U.S. Citizenship and Immigration Services (USCIS) or consulting with an immigration attorney to confirm your eligibility for international travel.\n",
      "[Document(page_content='It is important that you understand how your information will be used. Please read our Privacy Notice carefully as it', metadata={'source': '../../data/0_raw/policy.pdf', 'page': 37}), Document(page_content='ITEM 9. THE OFFER AND LISTING . . . . . . . . . . . . . . . . . . . . . . . . . . . . . . . . . . . . . . . 90', metadata={'source': '../../data/0_raw/manu-20f-2022-09-24.pdf', 'page': 1})]\n"
     ]
    }
   ],
   "source": [
    "query = 'can I drive in other countries?'\n",
    "query = 'can I change my email address?'\n",
    "query = 'I have European cover what number do I call and what reference number to I use if need help when abroad'\n",
    "query = 'I will like my documents on the post and also i will like my green card for traveling abroad on the 1st of August for 40 days'\n",
    "answer = llm_qa_app(query)\n",
    "print(answer['result'])\n",
    "print(answer['source_documents'])"
   ]
  },
  {
   "cell_type": "code",
   "execution_count": null,
   "metadata": {},
   "outputs": [],
   "source": []
  }
 ],
 "metadata": {
  "kernelspec": {
   "display_name": "nlp",
   "language": "python",
   "name": "python3"
  },
  "language_info": {
   "codemirror_mode": {
    "name": "ipython",
    "version": 3
   },
   "file_extension": ".py",
   "mimetype": "text/x-python",
   "name": "python",
   "nbconvert_exporter": "python",
   "pygments_lexer": "ipython3",
   "version": "3.10.0"
  },
  "orig_nbformat": 4
 },
 "nbformat": 4,
 "nbformat_minor": 2
}
