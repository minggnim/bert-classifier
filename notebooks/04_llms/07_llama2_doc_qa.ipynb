{
 "cells": [
  {
   "cell_type": "code",
   "execution_count": 1,
   "metadata": {},
   "outputs": [],
   "source": [
    "%load_ext autoreload\n",
    "%autoreload 2"
   ]
  },
  {
   "cell_type": "code",
   "execution_count": 17,
   "metadata": {},
   "outputs": [],
   "source": [
    "from nlp_models.llm.base import LlmConfig\n",
    "from nlp_models.llm.vectordbs import build_vectordb, load_vectordb\n",
    "from nlp_models.llm.llms import build_llm\n",
    "from nlp_models.llm.prompts import QAPrompt\n",
    "from nlp_models.llm.apps import QaLlmApp"
   ]
  },
  {
   "cell_type": "code",
   "execution_count": 7,
   "metadata": {},
   "outputs": [],
   "source": [
    "config = LlmConfig(\n",
    "    MODEL_BIN_PATH='../../models/Llama-2-7B-Chat-GGML', \n",
    "    DATA_PATH='../../data/0_raw', \n",
    "    FAISS_DB_PATH='../../vectordb'\n",
    ")"
   ]
  },
  {
   "cell_type": "code",
   "execution_count": 3,
   "metadata": {},
   "outputs": [],
   "source": [
    "build_vectordb(config)"
   ]
  },
  {
   "cell_type": "code",
   "execution_count": 18,
   "metadata": {},
   "outputs": [],
   "source": [
    "llm_qa_app = QaLlmApp(llm=build_llm(config), prompt=QAPrompt().qa_prompt, vectordb=load_vectordb(config))"
   ]
  },
  {
   "cell_type": "code",
   "execution_count": 20,
   "metadata": {},
   "outputs": [
    {
     "data": {
      "text/plain": [
       "{'query': 'can I change my email address?',\n",
       " 'result': 'You can update your email address by logging into your account and going to the \"Account Settings\" page. From there, you can edit your profile information, including your email address. Please note that you will need to verify your new email address through a link sent to your old email address before it can take effect.',\n",
       " 'source_documents': [Document(page_content='It is important that you understand how your information will be used. Please read our Privacy Notice carefully as it', metadata={'source': '../../data/0_raw/policy.pdf', 'page': 37}),\n",
       "  Document(page_content='or any other changes to the information you told us when you set up the policy.\\nAny Questions?', metadata={'source': '../../data/0_raw/policy.pdf', 'page': 1})]}"
      ]
     },
     "execution_count": 20,
     "metadata": {},
     "output_type": "execute_result"
    }
   ],
   "source": [
    "query = 'can I drive in other countries?'\n",
    "query = 'can I change my email address?'\n",
    "llm_qa_app(query)"
   ]
  },
  {
   "cell_type": "code",
   "execution_count": null,
   "metadata": {},
   "outputs": [],
   "source": []
  }
 ],
 "metadata": {
  "kernelspec": {
   "display_name": "nlp",
   "language": "python",
   "name": "python3"
  },
  "language_info": {
   "codemirror_mode": {
    "name": "ipython",
    "version": 3
   },
   "file_extension": ".py",
   "mimetype": "text/x-python",
   "name": "python",
   "nbconvert_exporter": "python",
   "pygments_lexer": "ipython3",
   "version": "3.10.0"
  },
  "orig_nbformat": 4
 },
 "nbformat": 4,
 "nbformat_minor": 2
}
