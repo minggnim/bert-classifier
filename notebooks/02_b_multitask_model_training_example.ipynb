{
 "cells": [
  {
   "cell_type": "code",
   "execution_count": 10,
   "metadata": {},
   "outputs": [],
   "source": [
    "import torch\n",
    "import transformers\n",
    "import pandas as pd\n",
    "from pathlib import Path\n",
    "from torch.utils.data import DataLoader, RandomSampler, SequentialSampler\n",
    "from bert_classifier.data import CustomDataset\n",
    "from multi_task_model.mtl import AutoModelForMTL\n",
    "from multi_task_model.trainer import Trainer, Configs"
   ]
  },
  {
   "cell_type": "code",
   "execution_count": 39,
   "metadata": {},
   "outputs": [],
   "source": [
    "DEVICE = 'cuda' if torch.cuda.is_available() else 'cpu'\n",
    "\n",
    "TRAIN_BATCH_SIZE = 8\n",
    "TEST_BATCH_SIZE = 4\n",
    "EPOCHS = 10\n",
    "MAX_LEN = 512\n",
    "DATA_COL = 'question_title'\n",
    "LABEL_COL = 'label'\n",
    "\n",
    "DATA_FOLDER = Path('../data/0_external/google-quest-challenge/')\n",
    "MODEL_DIR = Path('../models/multitask-models/')\n",
    "CHKPT_PATH = Path('../chkpt/')\n",
    "HF_MODEL_CARD = 'sentence-transformers/multi-qa-mpnet-base-dot-v1'"
   ]
  },
  {
   "cell_type": "code",
   "execution_count": 37,
   "metadata": {},
   "outputs": [],
   "source": [
    "df_train = pd.read_csv(DATA_FOLDER / 'train.csv')\n",
    "df_test = pd.read_csv(DATA_FOLDER / 'test.csv')"
   ]
  },
  {
   "cell_type": "code",
   "execution_count": 46,
   "metadata": {},
   "outputs": [],
   "source": [
    "label_dict = dict([(k,v) for k, v in enumerate(df_train.category.unique())])\n",
    "label_2_id = dict((v, k) for k, v in label_dict.items())\n",
    "df_train[LABEL_COL] = df_train.category.apply(lambda c: label_2_id[c])\n",
    "df_test[LABEL_COL] = df_test.category.apply(lambda c: label_2_id[c])"
   ]
  },
  {
   "attachments": {},
   "cell_type": "markdown",
   "metadata": {},
   "source": [
    "### Prepare training testing dataloader"
   ]
  },
  {
   "cell_type": "code",
   "execution_count": 47,
   "metadata": {},
   "outputs": [],
   "source": [
    "pretrained_tokenizer = transformers.AutoTokenizer.from_pretrained(HF_MODEL_CARD)\n",
    "training_set = CustomDataset(df_train, DATA_COL, LABEL_COL, pretrained_tokenizer, MAX_LEN, multi_label=False)\n",
    "testing_set = CustomDataset(df_test, DATA_COL, LABEL_COL, pretrained_tokenizer, MAX_LEN, multi_label=False)\n",
    "\n",
    "train_dataloader = DataLoader(\n",
    "            training_set,  \n",
    "            sampler=RandomSampler(training_set), \n",
    "            batch_size=TRAIN_BATCH_SIZE,\n",
    "        )\n",
    "test_dataloader = DataLoader(\n",
    "            testing_set,\n",
    "            sampler=SequentialSampler(testing_set),\n",
    "            batch_size=TEST_BATCH_SIZE,\n",
    "        )"
   ]
  },
  {
   "attachments": {},
   "cell_type": "markdown",
   "metadata": {},
   "source": [
    "### Initiate MTL model"
   ]
  },
  {
   "cell_type": "code",
   "execution_count": null,
   "metadata": {},
   "outputs": [],
   "source": [
    "model = AutoModelForMTL(HF_MODEL_CARD, len(label_dict))\n",
    "model.to(DEVICE)"
   ]
  },
  {
   "attachments": {},
   "cell_type": "markdown",
   "metadata": {},
   "source": [
    "### Configurations for model trainer"
   ]
  },
  {
   "cell_type": "code",
   "execution_count": 51,
   "metadata": {},
   "outputs": [],
   "source": [
    "configs = Configs(\n",
    "    epochs = EPOCHS, \n",
    "    multi_label=False, \n",
    "    num_labels=len(label_dict), \n",
    "    tune_base_model=False\n",
    "    )\n",
    "\n",
    "trainer = Trainer(\n",
    "    model, \n",
    "    train_dataloader, test_dataloader, \n",
    "    configs, \n",
    "    device=torch.device(DEVICE), \n",
    "    chkpt_dir=CHKPT_PATH\n",
    "    )"
   ]
  },
  {
   "attachments": {},
   "cell_type": "markdown",
   "metadata": {},
   "source": [
    "### Kick off training"
   ]
  },
  {
   "cell_type": "code",
   "execution_count": null,
   "metadata": {},
   "outputs": [],
   "source": [
    "trainer.train()"
   ]
  },
  {
   "attachments": {},
   "cell_type": "markdown",
   "metadata": {},
   "source": [
    "### Continue training from checkpoint"
   ]
  },
  {
   "cell_type": "code",
   "execution_count": null,
   "metadata": {},
   "outputs": [],
   "source": [
    "trainer.continue_training(CHKPT_PATH / 'chkpt9.pt')"
   ]
  },
  {
   "attachments": {},
   "cell_type": "markdown",
   "metadata": {},
   "source": [
    "### Save the model"
   ]
  },
  {
   "cell_type": "code",
   "execution_count": null,
   "metadata": {},
   "outputs": [],
   "source": [
    "output_dir = MODEL_DIR / 'multitask-multilabel-model-finetuned-classification-layer-20230609'\n",
    "tokenizer_dir = output_dir / 'tokenizer'\n",
    "model_file = output_dir / 'mtl.bin'\n",
    "\n",
    "model,_,_ = trainer.load_checkpoint('./drive/MyDrive/chatbot/chkpt/chkpt9.pt', model)\n",
    "pretrained_tokenizer.save_pretrained(tokenizer_dir)\n",
    "AutoModelForMTL.save_model(model, model_file)"
   ]
  }
 ],
 "metadata": {
  "kernelspec": {
   "display_name": "nlp",
   "language": "python",
   "name": "python3"
  },
  "language_info": {
   "codemirror_mode": {
    "name": "ipython",
    "version": 3
   },
   "file_extension": ".py",
   "mimetype": "text/x-python",
   "name": "python",
   "nbconvert_exporter": "python",
   "pygments_lexer": "ipython3",
   "version": "3.10.0"
  },
  "orig_nbformat": 4
 },
 "nbformat": 4,
 "nbformat_minor": 2
}
