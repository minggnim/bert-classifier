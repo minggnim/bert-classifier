{
 "cells": [
  {
   "cell_type": "code",
   "execution_count": null,
   "metadata": {},
   "outputs": [],
   "source": [
    "import torch\n",
    "import numpy as np\n",
    "import pandas as pd\n",
    "from pathlib import Path\n",
    "from multi_task_model.mtl import MTLInference"
   ]
  },
  {
   "cell_type": "code",
   "execution_count": null,
   "metadata": {},
   "outputs": [],
   "source": [
    "DEVICE = 'cuda' if torch.cuda.is_available() else 'cpu'\n",
    "\n",
    "DATA_FOLDER = Path('../data/0_external/google-quest-challenge/')\n",
    "MODEL_DIR = Path('../models/multitask-models/')\n",
    "HF_MODEL_CARD = 'sentence-transformers/multi-qa-mpnet-base-dot-v1'"
   ]
  },
  {
   "cell_type": "code",
   "execution_count": null,
   "metadata": {},
   "outputs": [],
   "source": [
    "output_dir = MODEL_DIR / 'multitask-multilabel-model-finetuned-classification-layer-20230609'\n",
    "tokenizer_dir = output_dir / 'tokenizer'\n",
    "model_file = output_dir / 'mtl.bin'"
   ]
  },
  {
   "cell_type": "code",
   "execution_count": null,
   "metadata": {},
   "outputs": [],
   "source": [
    "df_train = pd.read_csv(DATA_FOLDER / 'train.csv')\n",
    "label_dict = dict([(k,v) for k, v in enumerate(df_train.category.unique())])"
   ]
  },
  {
   "cell_type": "code",
   "execution_count": null,
   "metadata": {},
   "outputs": [],
   "source": [
    "def pred_raw(q, mtl_model):\n",
    "    return mtl_model.predict(q)[0].squeeze().tolist()\n",
    "\n",
    "def pred_index(p):\n",
    "    pred = np.flatnonzero(np.array(p).__gt__(0.5)).tolist()\n",
    "    if isinstance(pred, int):\n",
    "        return [pred]\n",
    "    else:\n",
    "        return pred\n",
    "  \n",
    "def pred_label(p):\n",
    "    return [label_dict[i] for i in p]\n",
    "\n",
    "def predict(query, mtl_model):\n",
    "    p_raw = pred_raw(query, mtl_model)\n",
    "    p = pred_index(p_raw)\n",
    "    return pred_label(p)"
   ]
  },
  {
   "cell_type": "code",
   "execution_count": null,
   "metadata": {},
   "outputs": [],
   "source": [
    "mtl_model = MTLInference(tokenizer_dir, model_file, pretrained_model=False)"
   ]
  },
  {
   "cell_type": "code",
   "execution_count": null,
   "metadata": {},
   "outputs": [],
   "source": [
    "query = 'how do multitask models work?'\n",
    "predict(query, mtl_model)"
   ]
  }
 ],
 "metadata": {
  "language_info": {
   "name": "python"
  },
  "orig_nbformat": 4
 },
 "nbformat": 4,
 "nbformat_minor": 2
}
