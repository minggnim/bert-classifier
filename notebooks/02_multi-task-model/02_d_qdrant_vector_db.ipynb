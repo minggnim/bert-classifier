{
 "cells": [
  {
   "cell_type": "code",
   "execution_count": null,
   "metadata": {},
   "outputs": [],
   "source": [
    "!pip install qdrant-client"
   ]
  },
  {
   "cell_type": "code",
   "execution_count": 3,
   "metadata": {},
   "outputs": [],
   "source": [
    "import pandas as pd\n",
    "from pathlib import Path\n",
    "from qdrant_client import models, QdrantClient\n",
    "from nlp_models.multi_task_model.mtl import MTLInference\n",
    "\n",
    "DATA_FOLDER = Path('../../data/0_external/google-quest-challenge')\n",
    "MODEL_DIR = Path('../../models/multi-task-model/')"
   ]
  },
  {
   "cell_type": "code",
   "execution_count": 4,
   "metadata": {},
   "outputs": [],
   "source": [
    "output_dir = MODEL_DIR / 'multi-task-model-finetuned-classification-layer-20230609'\n",
    "tokenizer_dir = output_dir / 'tokenizer'\n",
    "model_file = output_dir / 'mtl.bin'\n",
    "\n",
    "mtl = MTLInference(tokenizer_dir, model_file, pretrained_model=False)"
   ]
  },
  {
   "cell_type": "code",
   "execution_count": 5,
   "metadata": {},
   "outputs": [],
   "source": [
    "df_train = pd.read_csv(DATA_FOLDER / 'train.csv')\n",
    "label_dict = dict([(k,v) for k, v in enumerate(df_train.category.unique())])"
   ]
  },
  {
   "cell_type": "code",
   "execution_count": 6,
   "metadata": {},
   "outputs": [
    {
     "data": {
      "text/plain": [
       "True"
      ]
     },
     "execution_count": 6,
     "metadata": {},
     "output_type": "execute_result"
    }
   ],
   "source": [
    "qdrant = QdrantClient(':memory:')\n",
    "qdrant.recreate_collection(\n",
    "    collection_name='qb',\n",
    "    vectors_config=models.VectorParams(\n",
    "        size=mtl.mtl_model.base_model.config.hidden_size,\n",
    "        distance=models.Distance.DOT\n",
    "    )\n",
    ")"
   ]
  },
  {
   "cell_type": "code",
   "execution_count": 7,
   "metadata": {},
   "outputs": [],
   "source": [
    "qdrant.upload_records(\n",
    "    collection_name='qb',\n",
    "    records=[\n",
    "        models.Record(\n",
    "            id=idx,\n",
    "            vector=mtl.predict(rec['question_title'])[1].squeeze().tolist(),\n",
    "            payload=rec\n",
    "        ) for idx, rec in df_train.iterrows()\n",
    "    ]\n",
    ")"
   ]
  },
  {
   "cell_type": "code",
   "execution_count": 8,
   "metadata": {},
   "outputs": [
    {
     "data": {
      "text/plain": [
       "[ScoredPoint(id=4083, version=0, score=0.8482221290196361, payload={'qa_id': 6518, 'question_title': 'Using a ski helmet for winter biking', 'question_body': 'I am curious if anyone uses a skiing helmet for winter biking? Would this be safe? Are skiing helmets designed to protect you from the same kind of accidents that you would have on a bike?  \\n\\nMy thinking is that a ski helmet would:\\n\\n\\nHelp to keep your ears warm\\nWould fit well with ski goggles (which fit poorly with my bike helmet)\\nNot have air vents in it which make you cold in the winter\\n\\n', 'question_user_name': 'sixtyfootersdude', 'question_user_page': 'https://bicycles.stackexchange.com/users/134', 'answer': \"I wear a Bern Brentwood with a winter liner in cold weather. It's a certified bike helmet, but designed more like a ski helmet. The winter liner does a great job of keeping my ears warm without wearing any other protection, but doesn't block traffic noise. It is vented, but not well enough that it makes my head cold. It also has a clip in the back for ski goggles if you're using them. With the summer liner it works well for fall and spring, too. \\n\\n\\n\", 'answer_user_name': 'Marc Charbonneau', 'answer_user_page': 'https://bicycles.stackexchange.com/users/293', 'url': 'http://bicycles.stackexchange.com/questions/995/using-a-ski-helmet-for-winter-biking', 'category': 'CULTURE', 'host': 'bicycles.stackexchange.com', 'question_asker_intent_understanding': 1.0, 'question_body_critical': 0.4444444444444444, 'question_conversational': 0.0, 'question_expect_short_answer': 0.3333333333333333, 'question_fact_seeking': 1.0, 'question_has_commonly_accepted_answer': 1.0, 'question_interestingness_others': 0.8888888888888888, 'question_interestingness_self': 0.8888888888888888, 'question_multi_intent': 0.0, 'question_not_really_a_question': 0.0, 'question_opinion_seeking': 0.0, 'question_type_choice': 0.3333333333333333, 'question_type_compare': 0.0, 'question_type_consequence': 0.6666666666666666, 'question_type_definition': 0.0, 'question_type_entity': 0.0, 'question_type_instructions': 0.0, 'question_type_procedure': 0.0, 'question_type_reason_explanation': 0.3333333333333333, 'question_type_spelling': 0.0, 'question_well_written': 1.0, 'answer_helpful': 0.7777777777777778, 'answer_level_of_information': 0.5555555555555556, 'answer_plausible': 1.0, 'answer_relevance': 0.7777777777777778, 'answer_satisfaction': 0.6666666666666667, 'answer_type_instructions': 0.0, 'answer_type_procedure': 0.0, 'answer_type_reason_explanation': 0.0, 'answer_well_written': 1.0}, vector=None),\n",
       " ScoredPoint(id=4893, version=0, score=0.8482221290196361, payload={'qa_id': 7788, 'question_title': 'Using a ski helmet for winter biking', 'question_body': 'I am curious if anyone uses a skiing helmet for winter biking? Would this be safe? Are skiing helmets designed to protect you from the same kind of accidents that you would have on a bike?  \\n\\nMy thinking is that a ski helmet would:\\n\\n\\nHelp to keep your ears warm\\nWould fit well with ski goggles (which fit poorly with my bike helmet)\\nNot have air vents in it which make you cold in the winter\\n\\n', 'question_user_name': 'sixtyfootersdude', 'question_user_page': 'https://bicycles.stackexchange.com/users/134', 'answer': 'POC also makes a helmet that is both snow and bike  \\n\\nReceptor Backcountry MIPS\\n\\nIn the rain I use a bern with hard bill to help keep the water off my face \\n', 'answer_user_name': 'Paparazzi', 'answer_user_page': 'https://bicycles.stackexchange.com/users/7785', 'url': 'http://bicycles.stackexchange.com/questions/995/using-a-ski-helmet-for-winter-biking', 'category': 'CULTURE', 'host': 'bicycles.stackexchange.com', 'question_asker_intent_understanding': 1.0, 'question_body_critical': 0.6666666666666666, 'question_conversational': 0.0, 'question_expect_short_answer': 0.6666666666666666, 'question_fact_seeking': 0.6666666666666666, 'question_has_commonly_accepted_answer': 0.6666666666666666, 'question_interestingness_others': 0.7777777777777778, 'question_interestingness_self': 0.6666666666666666, 'question_multi_intent': 0.6666666666666666, 'question_not_really_a_question': 0.0, 'question_opinion_seeking': 0.6666666666666666, 'question_type_choice': 0.6666666666666666, 'question_type_compare': 0.0, 'question_type_consequence': 0.0, 'question_type_definition': 0.0, 'question_type_entity': 0.0, 'question_type_instructions': 0.0, 'question_type_procedure': 0.0, 'question_type_reason_explanation': 1.0, 'question_type_spelling': 0.0, 'question_well_written': 1.0, 'answer_helpful': 0.6666666666666666, 'answer_level_of_information': 0.3333333333333333, 'answer_plausible': 0.8888888888888888, 'answer_relevance': 0.6666666666666666, 'answer_satisfaction': 0.5333333333333333, 'answer_type_instructions': 0.0, 'answer_type_procedure': 0.0, 'answer_type_reason_explanation': 0.5, 'answer_well_written': 0.8888888888888888}, vector=None),\n",
       " ScoredPoint(id=517, version=0, score=0.8482221290196361, payload={'qa_id': 815, 'question_title': 'Using a ski helmet for winter biking', 'question_body': 'I am curious if anyone uses a skiing helmet for winter biking? Would this be safe? Are skiing helmets designed to protect you from the same kind of accidents that you would have on a bike?  \\n\\nMy thinking is that a ski helmet would:\\n\\n\\nHelp to keep your ears warm\\nWould fit well with ski goggles (which fit poorly with my bike helmet)\\nNot have air vents in it which make you cold in the winter\\n\\n', 'question_user_name': 'sixtyfootersdude', 'question_user_page': 'https://bicycles.stackexchange.com/users/134', 'answer': \"\\n  Are skiing helmets designed to protect you from the same kind of acidents that you would have on a bike?\\n\\n\\nHere is an article, for what it's worth, about the kind[s] of accidents that skiing helmets are designed to protect you from: The Science Behind Helmets.\\n\\nOn another (but related) subject, according to the web sites referenced in this answer there is even, apparently, some controversy over whether bicycle helmets will protect you from the kind of accidents that you would have on a bike.\\n\", 'answer_user_name': 'ChrisW', 'answer_user_page': 'https://bicycles.stackexchange.com/users/1097', 'url': 'http://bicycles.stackexchange.com/questions/995/using-a-ski-helmet-for-winter-biking', 'category': 'CULTURE', 'host': 'bicycles.stackexchange.com', 'question_asker_intent_understanding': 0.8888888888888888, 'question_body_critical': 0.4444444444444444, 'question_conversational': 0.3333333333333333, 'question_expect_short_answer': 1.0, 'question_fact_seeking': 0.6666666666666666, 'question_has_commonly_accepted_answer': 0.5, 'question_interestingness_others': 0.5555555555555556, 'question_interestingness_self': 0.7777777777777778, 'question_multi_intent': 0.6666666666666666, 'question_not_really_a_question': 0.0, 'question_opinion_seeking': 1.0, 'question_type_choice': 1.0, 'question_type_compare': 0.0, 'question_type_consequence': 0.0, 'question_type_definition': 0.0, 'question_type_entity': 0.0, 'question_type_instructions': 0.0, 'question_type_procedure': 0.0, 'question_type_reason_explanation': 0.3333333333333333, 'question_type_spelling': 0.0, 'question_well_written': 0.7777777777777778, 'answer_helpful': 0.6666666666666666, 'answer_level_of_information': 0.3333333333333333, 'answer_plausible': 1.0, 'answer_relevance': 0.7777777777777778, 'answer_satisfaction': 0.5333333333333333, 'answer_type_instructions': 0.0, 'answer_type_procedure': 0.0, 'answer_type_reason_explanation': 0.3333333333333333, 'answer_well_written': 0.7777777777777778}, vector=None)]"
      ]
     },
     "execution_count": 8,
     "metadata": {},
     "output_type": "execute_result"
    }
   ],
   "source": [
    "query='What helmet to use for biking in winter?'\n",
    "matches = qdrant.search(\n",
    "    collection_name='qb',\n",
    "    query_vector=mtl.predict(query)[1].squeeze().tolist(),\n",
    "    limit=3\n",
    ")\n",
    "matches"
   ]
  },
  {
   "cell_type": "code",
   "execution_count": null,
   "metadata": {},
   "outputs": [],
   "source": [
    "query = 'what helmet to use for biking in winter?'\n",
    "outputs = mtl.predict(query)\n",
    "matches = qdrant.search(\n",
    "    collection_name='qb',\n",
    "    query_vector=outputs[1].squeeze().tolist(),\n",
    "    query_filter=models.Filter(\n",
    "        must=[\n",
    "            models.FieldCondition(\n",
    "                key='category',\n",
    "                match=models.MatchValue(\n",
    "                    value=label_dict[outputs[0].squeeze().gt(0.5).nonzero().item()]\n",
    "                    )\n",
    "            )\n",
    "        ]\n",
    "    )\n",
    ")"
   ]
  },
  {
   "cell_type": "code",
   "execution_count": null,
   "metadata": {},
   "outputs": [],
   "source": []
  }
 ],
 "metadata": {
  "kernelspec": {
   "display_name": "nlp",
   "language": "python",
   "name": "python3"
  },
  "language_info": {
   "codemirror_mode": {
    "name": "ipython",
    "version": 3
   },
   "file_extension": ".py",
   "mimetype": "text/x-python",
   "name": "python",
   "nbconvert_exporter": "python",
   "pygments_lexer": "ipython3",
   "version": "3.10.0"
  },
  "orig_nbformat": 4
 },
 "nbformat": 4,
 "nbformat_minor": 2
}
