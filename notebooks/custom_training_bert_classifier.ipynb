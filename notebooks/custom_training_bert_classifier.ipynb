{
 "cells": [
  {
   "cell_type": "code",
   "execution_count": 1,
   "metadata": {},
   "outputs": [],
   "source": [
    "import torch\n",
    "import pandas as pd\n",
    "from pathlib import Path\n",
    "from torch.utils.data import DataLoader, RandomSampler, SequentialSampler\n",
    "from bert_classifier.data import create_label_dict, label2id, CustomDataset\n",
    "from bert_classifier.bert import BertClass, bert_encoder\n",
    "from bert_classifier.train import custom_trainer, validate\n",
    "from bert_classifier.metrics import classification_metrics\n",
    "from bert_classifier.io import (\n",
    "    get_pretrained_tokenizer,\n",
    "    get_pretrained_model,\n",
    "    save_model,\n",
    "    save_label_dict\n",
    ")"
   ]
  },
  {
   "cell_type": "code",
   "execution_count": 2,
   "metadata": {},
   "outputs": [],
   "source": [
    "# os.environ['CUDA_VISIBLE_DEVICES']=''\n",
    "# device='cpu'\n",
    "device = 'cuda' if torch.cuda.is_available() else 'cpu'"
   ]
  },
  {
   "cell_type": "code",
   "execution_count": 3,
   "metadata": {},
   "outputs": [],
   "source": [
    "TRAINING_DATA = Path('../data/0_external/data.csv')\n",
    "MODEL_DIR = Path('../models/bert')\n",
    "LABEL_COL = 'label'\n",
    "DATA_COL = 'data'\n",
    "MAX_LEN = 512\n",
    "TRAIN_BATCH_SIZE = 8\n",
    "TEST_BATCH_SIZE = 4\n",
    "EPOCHS = 5\n",
    "LEARNING_RATE = 1e-05\n",
    "MODEL_NAME = 'bert-base-uncased'\n",
    "PRETRAINED_TOKENIZER = MODEL_DIR / 'pretrained/tokenizer-uncased'\n",
    "PRETRAINED_MODEL = MODEL_DIR / 'pretrained/bert-base-uncased'\n",
    "FINETUNED_DIR = MODEL_DIR / 'fine-tuned'\n",
    "FINETUNED_MODEL = FINETUNED_DIR / 'fine-tuned-uncased'\n",
    "FINETUNED_MODEL_STATE = FINETUNED_DIR / 'model-state-dict'\n",
    "FINETUNED_OPT_STATE = FINETUNED_DIR / 'opt-state-dict'\n",
    "CHECKPOINT_DIR = MODEL_DIR / 'checkpoint'\n",
    "pretrained_tokenizer = get_pretrained_tokenizer(MODEL_NAME, PRETRAINED_TOKENIZER)\n",
    "pretrained_model = get_pretrained_model(MODEL_NAME, PRETRAINED_MODEL)"
   ]
  },
  {
   "cell_type": "code",
   "execution_count": 4,
   "metadata": {},
   "outputs": [],
   "source": [
    "data = pd.read_csv(TRAINING_DATA)\n",
    "label_dict = create_label_dict(data, LABEL_COL)\n",
    "data = label2id(data, LABEL_COL, label_dict)"
   ]
  },
  {
   "cell_type": "code",
   "execution_count": 5,
   "metadata": {},
   "outputs": [],
   "source": [
    "test_size = 0.2\n",
    "df_test = data.groupby(LABEL_COL, group_keys=False).apply(pd.DataFrame.sample, frac=test_size)\n",
    "df_train = data[~data.index.isin(df_test.index)]\n",
    "df_train.reset_index(drop=True, inplace=True)\n",
    "df_test.reset_index(drop=True, inplace=True)"
   ]
  },
  {
   "cell_type": "code",
   "execution_count": 6,
   "metadata": {},
   "outputs": [],
   "source": [
    "training_set = CustomDataset(df_train, DATA_COL, LABEL_COL, pretrained_tokenizer, MAX_LEN)\n",
    "testing_set = CustomDataset(df_test, DATA_COL, LABEL_COL, pretrained_tokenizer, MAX_LEN)\n",
    "\n",
    "train_dataloader = DataLoader(\n",
    "            training_set,  \n",
    "            sampler=RandomSampler(training_set), \n",
    "            batch_size=TRAIN_BATCH_SIZE \n",
    "        )\n",
    "test_dataloader = DataLoader(\n",
    "            testing_set,\n",
    "            sampler=SequentialSampler(testing_set),\n",
    "            batch_size=TEST_BATCH_SIZE\n",
    "        )"
   ]
  },
  {
   "cell_type": "code",
   "execution_count": 7,
   "metadata": {},
   "outputs": [
    {
     "name": "stdout",
     "output_type": "stream",
     "text": [
      "\n",
      "======== Epoch 1 / 5 ========\n",
      "Total steps: 1 || Training in progress...\n"
     ]
    },
    {
     "name": "stderr",
     "output_type": "stream",
     "text": [
      "1it [01:11, 71.89s/it]\n"
     ]
    },
    {
     "name": "stdout",
     "output_type": "stream",
     "text": [
      "\n",
      "            Training time: 71.91619825363159 seconds ||\n",
      "            Training loss: 0.6141266822814941 ||\n",
      "            Training accuracy: 0.75\n",
      "            \n",
      "Evaluation in progress...\n",
      "\n",
      "            Validation time: 75.70688605308533 seconds\n",
      "            Validation loss: 0.6468579173088074 ||\n",
      "            Validation accuracy: 0.5\n",
      "            \n",
      "\n",
      "======== Epoch 2 / 5 ========\n",
      "Total steps: 1 || Training in progress...\n"
     ]
    },
    {
     "name": "stderr",
     "output_type": "stream",
     "text": [
      "1it [00:50, 50.02s/it]\n"
     ]
    },
    {
     "name": "stdout",
     "output_type": "stream",
     "text": [
      "\n",
      "            Training time: 50.032525062561035 seconds ||\n",
      "            Training loss: 0.6151097416877747 ||\n",
      "            Training accuracy: 0.625\n",
      "            \n",
      "Evaluation in progress...\n",
      "\n",
      "            Validation time: 54.74058389663696 seconds\n",
      "            Validation loss: 0.6368004679679871 ||\n",
      "            Validation accuracy: 0.5\n",
      "            \n",
      "\n",
      "======== Epoch 3 / 5 ========\n",
      "Total steps: 1 || Training in progress...\n"
     ]
    },
    {
     "name": "stderr",
     "output_type": "stream",
     "text": [
      "1it [01:04, 64.95s/it]\n"
     ]
    },
    {
     "name": "stdout",
     "output_type": "stream",
     "text": [
      "\n",
      "            Training time: 64.95808410644531 seconds ||\n",
      "            Training loss: 0.5412606000900269 ||\n",
      "            Training accuracy: 1.0\n",
      "            \n",
      "Evaluation in progress...\n",
      "\n",
      "            Validation time: 69.18830418586731 seconds\n",
      "            Validation loss: 0.6256762146949768 ||\n",
      "            Validation accuracy: 0.5\n",
      "            \n",
      "\n",
      "======== Epoch 4 / 5 ========\n",
      "Total steps: 1 || Training in progress...\n"
     ]
    },
    {
     "name": "stderr",
     "output_type": "stream",
     "text": [
      "1it [00:59, 59.94s/it]\n"
     ]
    },
    {
     "name": "stdout",
     "output_type": "stream",
     "text": [
      "\n",
      "            Training time: 59.95087695121765 seconds ||\n",
      "            Training loss: 0.4792165160179138 ||\n",
      "            Training accuracy: 0.875\n",
      "            \n",
      "Evaluation in progress...\n",
      "\n",
      "            Validation time: 64.63899302482605 seconds\n",
      "            Validation loss: 0.614830493927002 ||\n",
      "            Validation accuracy: 0.5\n",
      "            \n",
      "\n",
      "======== Epoch 5 / 5 ========\n",
      "Total steps: 1 || Training in progress...\n"
     ]
    },
    {
     "name": "stderr",
     "output_type": "stream",
     "text": [
      "1it [01:02, 62.70s/it]\n"
     ]
    },
    {
     "name": "stdout",
     "output_type": "stream",
     "text": [
      "\n",
      "            Training time: 62.70720195770264 seconds ||\n",
      "            Training loss: 0.4453120827674866 ||\n",
      "            Training accuracy: 1.0\n",
      "            \n",
      "Evaluation in progress...\n",
      "\n",
      "            Validation time: 66.76218485832214 seconds\n",
      "            Validation loss: 0.6067008972167969 ||\n",
      "            Validation accuracy: 0.5\n",
      "            \n"
     ]
    }
   ],
   "source": [
    "model = BertClass(len(label_dict), pretrained_model)\n",
    "\n",
    "optimizer = torch.optim.AdamW(\n",
    "    params=model.parameters(), \n",
    "    lr=LEARNING_RATE\n",
    ")\n",
    "\n",
    "custom_trainer(model, optimizer, train_dataloader, test_dataloader, EPOCHS)"
   ]
  },
  {
   "cell_type": "code",
   "execution_count": 8,
   "metadata": {},
   "outputs": [
    {
     "name": "stderr",
     "output_type": "stream",
     "text": [
      "/Users/mg/.venv/ml/lib/python3.9/site-packages/sklearn/metrics/_classification.py:1334: UndefinedMetricWarning: Precision is ill-defined and being set to 0.0 in labels with no predicted samples. Use `zero_division` parameter to control this behavior.\n",
      "  _warn_prf(average, modifier, msg_start, len(result))\n"
     ]
    },
    {
     "data": {
      "text/plain": [
       "{'n': 2,\n",
       " 'accuracy': 0.5,\n",
       " 'precision': 0.25,\n",
       " 'recall': 0.5,\n",
       " 'f1': 0.3333333333333333,\n",
       " 'confusion': array([[1, 0],\n",
       "        [1, 0]])}"
      ]
     },
     "execution_count": 8,
     "metadata": {},
     "output_type": "execute_result"
    }
   ],
   "source": [
    "outputs, targets, loss = validate(model, test_dataloader)\n",
    "classification_metrics(outputs, targets)"
   ]
  },
  {
   "cell_type": "code",
   "execution_count": 9,
   "metadata": {},
   "outputs": [],
   "source": [
    "save_model(model, optimizer)\n",
    "save_label_dict(label_dict)"
   ]
  },
  {
   "cell_type": "code",
   "execution_count": 10,
   "metadata": {},
   "outputs": [],
   "source": [
    "from bert_classifier.io import load_model"
   ]
  },
  {
   "cell_type": "code",
   "execution_count": 11,
   "metadata": {},
   "outputs": [],
   "source": [
    "model = load_model()"
   ]
  }
 ],
 "metadata": {
  "kernelspec": {
   "display_name": "Python 3.9.7 ('ml')",
   "language": "python",
   "name": "python3"
  },
  "language_info": {
   "codemirror_mode": {
    "name": "ipython",
    "version": 3
   },
   "file_extension": ".py",
   "mimetype": "text/x-python",
   "name": "python",
   "nbconvert_exporter": "python",
   "pygments_lexer": "ipython3",
   "version": "3.9.7"
  },
  "orig_nbformat": 4,
  "vscode": {
   "interpreter": {
    "hash": "a29fdb6f3e01a2d0ababb7a9ec88cb1ac07dcd7af98b4f6ed90db69885c2ce81"
   }
  }
 },
 "nbformat": 4,
 "nbformat_minor": 2
}
