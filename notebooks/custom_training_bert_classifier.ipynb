{
 "cells": [
  {
   "cell_type": "code",
   "execution_count": 4,
   "metadata": {},
   "outputs": [],
   "source": [
    "import torch\n",
    "from pathlib import Path\n",
    "from bert_classifier.io import get_pretrained_tokenizer, get_pretrained_model\n",
    "from bert_classifier.data import create_label_dict, CustomDataset\n",
    "from bert_classifier.bert import BertClass, bert_encoder\n",
    "from bert_classifier.train import custom_trainer, validate\n",
    "from bert_classifier.metrics import classification_metrics"
   ]
  },
  {
   "cell_type": "code",
   "execution_count": 6,
   "metadata": {},
   "outputs": [],
   "source": [
    "# os.environ['CUDA_VISIBLE_DEVICES']=''\n",
    "# device='cpu'\n",
    "device = 'cuda' if torch.cuda.is_available() else 'cpu'"
   ]
  },
  {
   "cell_type": "code",
   "execution_count": 3,
   "metadata": {},
   "outputs": [
    {
     "name": "stderr",
     "output_type": "stream",
     "text": [
      "Some weights of the model checkpoint at bert-base-uncased were not used when initializing BertModel: ['cls.predictions.bias', 'cls.predictions.transform.dense.weight', 'cls.seq_relationship.weight', 'cls.predictions.transform.LayerNorm.bias', 'cls.seq_relationship.bias', 'cls.predictions.transform.dense.bias', 'cls.predictions.decoder.weight', 'cls.predictions.transform.LayerNorm.weight']\n",
      "- This IS expected if you are initializing BertModel from the checkpoint of a model trained on another task or with another architecture (e.g. initializing a BertForSequenceClassification model from a BertForPreTraining model).\n",
      "- This IS NOT expected if you are initializing BertModel from the checkpoint of a model that you expect to be exactly identical (initializing a BertForSequenceClassification model from a BertForSequenceClassification model).\n"
     ]
    }
   ],
   "source": [
    "TRAINING_DATA = Path('../data/processed/data.csv')\n",
    "MODEL_DIR = Path('../models/bert')\n",
    "LABEL_COL = 'Category'\n",
    "MAX_LEN = 512\n",
    "TRAIN_BATCH_SIZE = 8\n",
    "TEST_BATCH_SIZE = 4\n",
    "EPOCHS = 5\n",
    "LEARNING_RATE = 1e-05\n",
    "MODEL_NAME = 'bert-base-uncased'\n",
    "PRETRAINED_TOKENIZER = MODEL_DIR / 'pretrained/tokenizer-uncased'\n",
    "PRETRAINED_MODEL = MODEL_DIR / 'pretrained/bert-base-uncased'\n",
    "FINETUNED_MODEL = MODEL_DIR / 'fine-tuned/fine-tuned-uncased'\n",
    "FINETUNED_MODEL_STATE = MODEL_DIR / 'fine-tuned/model-state-dict'\n",
    "FINETUNED_OPT_STATE = MODEL_DIR / 'fine-tuned/opt-state-dict'\n",
    "CHECKPOINT_DIR = MODEL_DIR / 'checkpoint'\n",
    "pretrained_tokenizer = get_pretrained_tokenizer(PRETRAINED_TOKENIZER, MODEL_NAME)\n",
    "pretrained_model = get_pretrained_model(PRETRAINED_MODEL, MODEL_NAME)"
   ]
  },
  {
   "cell_type": "code",
   "execution_count": null,
   "metadata": {},
   "outputs": [],
   "source": [
    "data = pd.read_csv(TRAINING_DATA)\n",
    "label_dict = create_label_dict(data, LABEL_COL)\n",
    "data = label2id(data, label_col, label_dict)"
   ]
  },
  {
   "cell_type": "code",
   "execution_count": null,
   "metadata": {},
   "outputs": [],
   "source": [
    "test_size = 0.1\n",
    "df_test = data.groupby(LABEL_COL, group_keys=False).apply(pd.DataFrame.sample, frac=test_size)\n",
    "df_train = data[~data.index.isin(df_test.index)]\n",
    "df_train.reset_index(drop=True, inplace=True)\n",
    "df_test.reset_index(drop=True, inplace=True)"
   ]
  },
  {
   "cell_type": "code",
   "execution_count": null,
   "metadata": {},
   "outputs": [],
   "source": [
    "training_set = CustomDataset(df_train, pretrained_tokenizer, MAX_LEN)\n",
    "testing_set = CustomDataset(df_test, pretrained_tokenizer, MAX_LEN)\n",
    "\n",
    "train_dataloader = DataLoader(\n",
    "            training_set,  \n",
    "            sampler=RandomSampler(training_set), \n",
    "            batch_size=TRAIN_BATCH_SIZE \n",
    "        )\n",
    "test_dataloader = DataLoader(\n",
    "            testing_set,\n",
    "            sampler=SequentialSampler(testing_set),\n",
    "            batch_size=TEST_BATCH_SIZE\n",
    "        )"
   ]
  },
  {
   "cell_type": "code",
   "execution_count": null,
   "metadata": {},
   "outputs": [],
   "source": [
    "model = BertClass(pretrained_model, 4)\n",
    "\n",
    "optimizer = torch.optim.AdamW(\n",
    "    params=model.parameters(), \n",
    "    lr=LEARNING_RATE\n",
    ")\n",
    "\n",
    "custom_trainer(model, optimizer, train_dataloader, test_dataloader)"
   ]
  },
  {
   "cell_type": "code",
   "execution_count": null,
   "metadata": {},
   "outputs": [],
   "source": [
    "outputs, targets, loss = validate(model, test_dataloader)\n",
    "classification_metrics(outputs, targets)"
   ]
  },
  {
   "cell_type": "code",
   "execution_count": null,
   "metadata": {},
   "outputs": [],
   "source": [
    "from bert_classifier.io import save_model\n",
    "save_model(model)"
   ]
  }
 ],
 "metadata": {
  "kernelspec": {
   "display_name": "Python 3.9.7 ('ml')",
   "language": "python",
   "name": "python3"
  },
  "language_info": {
   "codemirror_mode": {
    "name": "ipython",
    "version": 3
   },
   "file_extension": ".py",
   "mimetype": "text/x-python",
   "name": "python",
   "nbconvert_exporter": "python",
   "pygments_lexer": "ipython3",
   "version": "3.9.7"
  },
  "orig_nbformat": 4,
  "vscode": {
   "interpreter": {
    "hash": "a29fdb6f3e01a2d0ababb7a9ec88cb1ac07dcd7af98b4f6ed90db69885c2ce81"
   }
  }
 },
 "nbformat": 4,
 "nbformat_minor": 2
}
